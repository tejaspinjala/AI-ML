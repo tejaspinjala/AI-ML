{
 "cells": [
  {
   "cell_type": "code",
   "execution_count": 2,
   "id": "b6729f3a",
   "metadata": {},
   "outputs": [],
   "source": [
    "# an attempt to understand what goes on behind the sklearn LogisticRegression class\n",
    "import numpy as np\n",
    "\n",
    "def sigmoid(x): # activation function\n",
    "    return 1/(1 + np.exp(-x))\n",
    "\n",
    "\n",
    "class LogisticRegression:\n",
    "    def __init__(self, lr = 0.001, n_iters = 1000): # epoch in Nural Network or Deep Learning\n",
    "        self.lr = lr\n",
    "        self.n_iters = n_iters\n",
    "        self.weights = None\n",
    "        self.bias = None\n",
    "    \n",
    "    def fit(self, X, y): # get the best coefficients and bias\n",
    "        n_samples, n_features = X.shape # samples = m, features = n\n",
    "        self.weights = np.zeros(n_features) # creates an array\n",
    "        self.bias = 0 \n",
    "        \n",
    "        for _ in range(self.n_iters):\n",
    "            y_pred = np.dot(X, self.weights) + self.bias # dot prodcut(X = feautes. Transpose matrix). y = mx + b with multiple w's\n",
    "            y_pred = sigmoid(y_pred)\n",
    "            \n",
    "            dw = (1/n_samples) * np.dot(X.T, (y_pred-y)) # partial derivative with respect to w\n",
    "            db = (1/n_samples) * np.sum(y_pred-y) # partial derivative with respect to b\n",
    "            \n",
    "            self.weights = self.weights - self.lr * dw\n",
    "            self.bias = self.bias - self.lr * db\n",
    "            \n",
    "    def predict(self, X): # predict once we have the best coefficients and bias\n",
    "        y_pred = np.dot(X, self.weights) + self.bias\n",
    "        y_pred = sigmoid(y_pred)\n",
    "        prediction = [0 if y <= 0.5 else 1 for y in y_pred]\n",
    "        return prediction"
   ]
  },
  {
   "cell_type": "code",
   "execution_count": null,
   "id": "a8396b8a",
   "metadata": {},
   "outputs": [],
   "source": []
  }
 ],
 "metadata": {
  "kernelspec": {
   "display_name": "Python 3 (ipykernel)",
   "language": "python",
   "name": "python3"
  },
  "language_info": {
   "codemirror_mode": {
    "name": "ipython",
    "version": 3
   },
   "file_extension": ".py",
   "mimetype": "text/x-python",
   "name": "python",
   "nbconvert_exporter": "python",
   "pygments_lexer": "ipython3",
   "version": "3.10.9"
  }
 },
 "nbformat": 4,
 "nbformat_minor": 5
}
