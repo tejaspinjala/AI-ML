{
 "cells": [
  {
   "cell_type": "markdown",
   "id": "5aad7bc3",
   "metadata": {},
   "source": [
    "# Unsupervised Learning\n",
    "\n",
    "## 1. K-means Clustering\n",
    "> In this this exercise, you will implement the K-means algorithm and use it\n",
    "for image compression.\n",
    "\n",
    "### 1.1 Implementing K-means\n",
    "\n",
    "> The K-means algorithm is a method to automatically cluster similar data examples together. The intuition behind K-means is an iterative procedure that starts by guess- ing the initial centroids, and then refines this guess by repeatedly assigning examples to their closest centroids and then recomputing the centroids based on the assignments.\n",
    "\n",
    "#### 1.1.1 Finding Closest Centroids\n",
    "\n",
    "For every example $i$ we set $c_{(i)} := j$ that minimizes $||x^{(i)}-\\mu_j||^2$ where $c_{(i)}$ is the index of the centroid that is closest to $x^{(i)}$, and $\\mu_j$ is the position (value) of the j'th centroid."
   ]
  },
  {
   "cell_type": "code",
   "execution_count": 1,
   "id": "1e63d4b2",
   "metadata": {},
   "outputs": [],
   "source": [
    "import numpy as np\n",
    "import pandas as pd\n",
    "import seaborn as sns"
   ]
  },
  {
   "cell_type": "code",
   "execution_count": 42,
   "id": "12ae4918",
   "metadata": {},
   "outputs": [],
   "source": [
    "def find_closest_centroid(X, centroids):\n",
    "    idx = np.zeros((X.shape[0], 1))\n",
    "    #print(idx)\n",
    "    for i in range(X.shape[0]):\n",
    "        idx[i] = np.argmin(np.sqrt(np.sum((X[i,:] - centroids) **2, axis = 1))) + 1\n",
    "        #print(idx[i])\n",
    "    return idx"
   ]
  },
  {
   "cell_type": "code",
   "execution_count": 52,
   "id": "c176dbeb",
   "metadata": {},
   "outputs": [
    {
     "name": "stdout",
     "output_type": "stream",
     "text": [
      "3\n",
      "(8, 2)\n",
      "2\n",
      "[[0. 0.]\n",
      " [0. 0.]\n",
      " [0. 0.]]\n",
      "[2 5]\n"
     ]
    }
   ],
   "source": [
    "print(K)\n",
    "print(X.shape)\n",
    "print(X.shape[1])\n",
    "print(np.zeros((K, X.shape[1])))\n",
    "print(X[1,:])"
   ]
  },
  {
   "cell_type": "code",
   "execution_count": 61,
   "id": "1c723e70",
   "metadata": {},
   "outputs": [
    {
     "name": "stdout",
     "output_type": "stream",
     "text": [
      "[[0. 0.]\n",
      " [0. 0.]\n",
      " [0. 0.]]\n",
      "[[ 2 10]]\n",
      "[[8 4]\n",
      " [5 8]\n",
      " [7 5]\n",
      " [6 4]\n",
      " [4 9]]\n",
      "[[2 5]\n",
      " [1 2]]\n"
     ]
    }
   ],
   "source": [
    "print(np.zeros((3, X.shape[1])))\n",
    "print(X[(clusters == 0+1).T[0],:])\n",
    "print(X[(clusters == 1+1).T[0],:])\n",
    "print(X[(clusters == 2+1).T[0],:])"
   ]
  },
  {
   "cell_type": "code",
   "execution_count": 63,
   "id": "399d4946",
   "metadata": {},
   "outputs": [],
   "source": [
    "def compute_centroids(X, idx, K):\n",
    "    centroids = np.zeros((K, X.shape[1]))\n",
    "    for i in range(K):\n",
    "        centroids[i,:] = np.mean(X[(idx == i+1).T[0],:], axis = 0)\n",
    "        #print(centroids[i,:])\n",
    "        #print(X[(idx == -i+1), :])\n",
    "        #print(X[(idx == -i+1).T[0],:])\n",
    "    return centroids"
   ]
  },
  {
   "cell_type": "code",
   "execution_count": 64,
   "id": "0188d39b",
   "metadata": {},
   "outputs": [],
   "source": [
    "K = 3 # clusters\n",
    "X = np.array([[2,10], [2,5], [8,4], [5,8], [7, 5], [6, 4], [1, 2], [4,9]])\n",
    "# from excel A1, B1, C1 are initial centroids\n",
    "initial_centroids = np.array([[2,10], [5,8], [1,2]])"
   ]
  },
  {
   "cell_type": "code",
   "execution_count": 65,
   "id": "9dbcde2a",
   "metadata": {},
   "outputs": [
    {
     "name": "stdout",
     "output_type": "stream",
     "text": [
      "[[ 2 10]\n",
      " [ 5  8]\n",
      " [ 1  2]]\n",
      "X [ 2 10] cluster[1.]\n",
      "X [2 5] cluster[3.]\n",
      "X [8 4] cluster[2.]\n",
      "X [5 8] cluster[2.]\n",
      "X [7 5] cluster[2.]\n",
      "X [6 4] cluster[2.]\n",
      "X [1 2] cluster[3.]\n",
      "X [4 9] cluster[2.]\n"
     ]
    }
   ],
   "source": [
    "clusters = find_closest_centroid(X, initial_centroids)\n",
    "print(initial_centroids)\n",
    "for i in range(X.shape[0]):\n",
    "    print('X {} cluster{}'.format(X[i], clusters[i]))"
   ]
  },
  {
   "cell_type": "code",
   "execution_count": 66,
   "id": "c3315019",
   "metadata": {},
   "outputs": [
    {
     "name": "stdout",
     "output_type": "stream",
     "text": [
      "[[ 2 10]\n",
      " [ 2  5]\n",
      " [ 8  4]\n",
      " [ 5  8]\n",
      " [ 7  5]\n",
      " [ 6  4]\n",
      " [ 1  2]\n",
      " [ 4  9]]\n",
      "[[1.]\n",
      " [3.]\n",
      " [2.]\n",
      " [2.]\n",
      " [2.]\n",
      " [2.]\n",
      " [3.]\n",
      " [2.]]\n",
      "3\n"
     ]
    }
   ],
   "source": [
    "print(X)\n",
    "print(clusters)\n",
    "print(K)"
   ]
  },
  {
   "cell_type": "code",
   "execution_count": 67,
   "id": "e2512e83",
   "metadata": {},
   "outputs": [
    {
     "data": {
      "text/plain": [
       "range(0, 3)"
      ]
     },
     "execution_count": 67,
     "metadata": {},
     "output_type": "execute_result"
    }
   ],
   "source": [
    "range(3)"
   ]
  },
  {
   "cell_type": "code",
   "execution_count": 69,
   "id": "de81ae54",
   "metadata": {},
   "outputs": [
    {
     "name": "stdout",
     "output_type": "stream",
     "text": [
      "[[ 2.  10. ]\n",
      " [ 6.   6. ]\n",
      " [ 1.5  3.5]]\n",
      "X [ 2 10] cluster [[1.]\n",
      " [3.]\n",
      " [2.]\n",
      " [2.]\n",
      " [2.]\n",
      " [2.]\n",
      " [3.]\n",
      " [1.]]\n",
      "X [2 5] cluster [[1.]\n",
      " [3.]\n",
      " [2.]\n",
      " [2.]\n",
      " [2.]\n",
      " [2.]\n",
      " [3.]\n",
      " [1.]]\n",
      "X [8 4] cluster [[1.]\n",
      " [3.]\n",
      " [2.]\n",
      " [2.]\n",
      " [2.]\n",
      " [2.]\n",
      " [3.]\n",
      " [1.]]\n",
      "X [5 8] cluster [[1.]\n",
      " [3.]\n",
      " [2.]\n",
      " [2.]\n",
      " [2.]\n",
      " [2.]\n",
      " [3.]\n",
      " [1.]]\n",
      "X [7 5] cluster [[1.]\n",
      " [3.]\n",
      " [2.]\n",
      " [2.]\n",
      " [2.]\n",
      " [2.]\n",
      " [3.]\n",
      " [1.]]\n",
      "X [6 4] cluster [[1.]\n",
      " [3.]\n",
      " [2.]\n",
      " [2.]\n",
      " [2.]\n",
      " [2.]\n",
      " [3.]\n",
      " [1.]]\n",
      "X [1 2] cluster [[1.]\n",
      " [3.]\n",
      " [2.]\n",
      " [2.]\n",
      " [2.]\n",
      " [2.]\n",
      " [3.]\n",
      " [1.]]\n",
      "X [4 9] cluster [[1.]\n",
      " [3.]\n",
      " [2.]\n",
      " [2.]\n",
      " [2.]\n",
      " [2.]\n",
      " [3.]\n",
      " [1.]]\n"
     ]
    }
   ],
   "source": [
    "new_centroids = compute_centroids(X, clusters, K)\n",
    "print(new_centroids)\n",
    "clusters = find_closest_centroid(X, new_centroids)\n",
    "for i in range(X.shape[0]):\n",
    "    print('X {} cluster {}'.format(X[i], clusters))"
   ]
  },
  {
   "cell_type": "code",
   "execution_count": 70,
   "id": "fa3c257f",
   "metadata": {},
   "outputs": [
    {
     "name": "stdout",
     "output_type": "stream",
     "text": [
      "[[3.   9.5 ]\n",
      " [6.5  5.25]\n",
      " [1.5  3.5 ]]\n",
      "X [ 2 10] cluster [[1.]\n",
      " [3.]\n",
      " [2.]\n",
      " [1.]\n",
      " [2.]\n",
      " [2.]\n",
      " [3.]\n",
      " [1.]]\n",
      "X [2 5] cluster [[1.]\n",
      " [3.]\n",
      " [2.]\n",
      " [1.]\n",
      " [2.]\n",
      " [2.]\n",
      " [3.]\n",
      " [1.]]\n",
      "X [8 4] cluster [[1.]\n",
      " [3.]\n",
      " [2.]\n",
      " [1.]\n",
      " [2.]\n",
      " [2.]\n",
      " [3.]\n",
      " [1.]]\n",
      "X [5 8] cluster [[1.]\n",
      " [3.]\n",
      " [2.]\n",
      " [1.]\n",
      " [2.]\n",
      " [2.]\n",
      " [3.]\n",
      " [1.]]\n",
      "X [7 5] cluster [[1.]\n",
      " [3.]\n",
      " [2.]\n",
      " [1.]\n",
      " [2.]\n",
      " [2.]\n",
      " [3.]\n",
      " [1.]]\n",
      "X [6 4] cluster [[1.]\n",
      " [3.]\n",
      " [2.]\n",
      " [1.]\n",
      " [2.]\n",
      " [2.]\n",
      " [3.]\n",
      " [1.]]\n",
      "X [1 2] cluster [[1.]\n",
      " [3.]\n",
      " [2.]\n",
      " [1.]\n",
      " [2.]\n",
      " [2.]\n",
      " [3.]\n",
      " [1.]]\n",
      "X [4 9] cluster [[1.]\n",
      " [3.]\n",
      " [2.]\n",
      " [1.]\n",
      " [2.]\n",
      " [2.]\n",
      " [3.]\n",
      " [1.]]\n"
     ]
    }
   ],
   "source": [
    "new_centroids = compute_centroids(X, clusters, K)\n",
    "print(new_centroids)\n",
    "clusters = find_closest_centroid(X, new_centroids)\n",
    "for i in range(X.shape[0]):\n",
    "    print('X {} cluster {}'.format(X[i], clusters))"
   ]
  },
  {
   "cell_type": "code",
   "execution_count": 71,
   "id": "45f25e91",
   "metadata": {},
   "outputs": [
    {
     "name": "stdout",
     "output_type": "stream",
     "text": [
      "[[3.66666667 9.        ]\n",
      " [7.         4.33333333]\n",
      " [1.5        3.5       ]]\n",
      "X [ 2 10] cluster [[1.]\n",
      " [3.]\n",
      " [2.]\n",
      " [1.]\n",
      " [2.]\n",
      " [2.]\n",
      " [3.]\n",
      " [1.]]\n",
      "X [2 5] cluster [[1.]\n",
      " [3.]\n",
      " [2.]\n",
      " [1.]\n",
      " [2.]\n",
      " [2.]\n",
      " [3.]\n",
      " [1.]]\n",
      "X [8 4] cluster [[1.]\n",
      " [3.]\n",
      " [2.]\n",
      " [1.]\n",
      " [2.]\n",
      " [2.]\n",
      " [3.]\n",
      " [1.]]\n",
      "X [5 8] cluster [[1.]\n",
      " [3.]\n",
      " [2.]\n",
      " [1.]\n",
      " [2.]\n",
      " [2.]\n",
      " [3.]\n",
      " [1.]]\n",
      "X [7 5] cluster [[1.]\n",
      " [3.]\n",
      " [2.]\n",
      " [1.]\n",
      " [2.]\n",
      " [2.]\n",
      " [3.]\n",
      " [1.]]\n",
      "X [6 4] cluster [[1.]\n",
      " [3.]\n",
      " [2.]\n",
      " [1.]\n",
      " [2.]\n",
      " [2.]\n",
      " [3.]\n",
      " [1.]]\n",
      "X [1 2] cluster [[1.]\n",
      " [3.]\n",
      " [2.]\n",
      " [1.]\n",
      " [2.]\n",
      " [2.]\n",
      " [3.]\n",
      " [1.]]\n",
      "X [4 9] cluster [[1.]\n",
      " [3.]\n",
      " [2.]\n",
      " [1.]\n",
      " [2.]\n",
      " [2.]\n",
      " [3.]\n",
      " [1.]]\n"
     ]
    }
   ],
   "source": [
    "new_centroids = compute_centroids(X, clusters, K)\n",
    "print(new_centroids)\n",
    "clusters = find_closest_centroid(X, new_centroids)\n",
    "for i in range(X.shape[0]):\n",
    "    print('X {} cluster {}'.format(X[i], clusters))"
   ]
  },
  {
   "cell_type": "code",
   "execution_count": 72,
   "id": "39a2b74e",
   "metadata": {},
   "outputs": [
    {
     "name": "stdout",
     "output_type": "stream",
     "text": [
      "[[3.66666667 9.        ]\n",
      " [7.         4.33333333]\n",
      " [1.5        3.5       ]]\n",
      "X [ 2 10] cluster [[1.]\n",
      " [3.]\n",
      " [2.]\n",
      " [1.]\n",
      " [2.]\n",
      " [2.]\n",
      " [3.]\n",
      " [1.]]\n",
      "X [2 5] cluster [[1.]\n",
      " [3.]\n",
      " [2.]\n",
      " [1.]\n",
      " [2.]\n",
      " [2.]\n",
      " [3.]\n",
      " [1.]]\n",
      "X [8 4] cluster [[1.]\n",
      " [3.]\n",
      " [2.]\n",
      " [1.]\n",
      " [2.]\n",
      " [2.]\n",
      " [3.]\n",
      " [1.]]\n",
      "X [5 8] cluster [[1.]\n",
      " [3.]\n",
      " [2.]\n",
      " [1.]\n",
      " [2.]\n",
      " [2.]\n",
      " [3.]\n",
      " [1.]]\n",
      "X [7 5] cluster [[1.]\n",
      " [3.]\n",
      " [2.]\n",
      " [1.]\n",
      " [2.]\n",
      " [2.]\n",
      " [3.]\n",
      " [1.]]\n",
      "X [6 4] cluster [[1.]\n",
      " [3.]\n",
      " [2.]\n",
      " [1.]\n",
      " [2.]\n",
      " [2.]\n",
      " [3.]\n",
      " [1.]]\n",
      "X [1 2] cluster [[1.]\n",
      " [3.]\n",
      " [2.]\n",
      " [1.]\n",
      " [2.]\n",
      " [2.]\n",
      " [3.]\n",
      " [1.]]\n",
      "X [4 9] cluster [[1.]\n",
      " [3.]\n",
      " [2.]\n",
      " [1.]\n",
      " [2.]\n",
      " [2.]\n",
      " [3.]\n",
      " [1.]]\n"
     ]
    }
   ],
   "source": [
    "new_centroids = compute_centroids(X, clusters, K)\n",
    "print(new_centroids)\n",
    "clusters = find_closest_centroid(X, new_centroids)\n",
    "for i in range(X.shape[0]):\n",
    "    print('X {} cluster {}'.format(X[i], clusters))"
   ]
  },
  {
   "cell_type": "code",
   "execution_count": null,
   "id": "9bed8e35",
   "metadata": {},
   "outputs": [],
   "source": []
  }
 ],
 "metadata": {
  "kernelspec": {
   "display_name": "Python 3 (ipykernel)",
   "language": "python",
   "name": "python3"
  },
  "language_info": {
   "codemirror_mode": {
    "name": "ipython",
    "version": 3
   },
   "file_extension": ".py",
   "mimetype": "text/x-python",
   "name": "python",
   "nbconvert_exporter": "python",
   "pygments_lexer": "ipython3",
   "version": "3.10.9"
  }
 },
 "nbformat": 4,
 "nbformat_minor": 5
}
