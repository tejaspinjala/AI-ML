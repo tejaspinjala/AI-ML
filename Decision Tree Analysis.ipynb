{
 "cells": [
  {
   "cell_type": "markdown",
   "id": "f744964d",
   "metadata": {},
   "source": [
    "### Information Gain\n",
    "- In order to pick which, feature to split on, we need a way of measuring how good the split is. This is where information gain and entropy come in.\n",
    "\n",
    "H(x) Shannon-entropy of a discrete random variable = $-\\sum\\limits_{i = 1}^{n} P(X_{i})log_{2}P(X_{i})$ \\\n",
    "$P_{i} = $ probability of occurence of value i \n",
    "- High entropy → All the classes are nearly equally likely\n",
    "- Low entropy → A few classes are likely; most of the classes are rarely observed\n",
    "- Assume 0 $log_{2}$ = 0\n",
    "- For completely homogoeneous dataset (all True or all False): entrpy is 0\n",
    "- If dataset is equally divided (same amount of True and all False): entrpy is 1\n",
    "\n",
    "\n",
    "### ID3 (Iterative Dichotomize)\n",
    "- ID3 algorithm is used to build the decision tree\n",
    "- It utilizes entropy and information gain to build the tree\n",
    "- Uses Information Theory (Entropy) to split on an attribute that gives the highest information gain\n",
    "- ~ It is a top-down greedy search of possible branches"
   ]
  },
  {
   "cell_type": "code",
   "execution_count": 2,
   "id": "35d1d91b",
   "metadata": {},
   "outputs": [],
   "source": [
    "import pandas as pd\n",
    "import numpy as np"
   ]
  },
  {
   "cell_type": "code",
   "execution_count": 3,
   "id": "295b0525",
   "metadata": {},
   "outputs": [],
   "source": [
    "df = pd.read_csv('golf.csv')"
   ]
  },
  {
   "cell_type": "code",
   "execution_count": 4,
   "id": "b2af7d0b",
   "metadata": {},
   "outputs": [
    {
     "data": {
      "text/html": [
       "<div>\n",
       "<style scoped>\n",
       "    .dataframe tbody tr th:only-of-type {\n",
       "        vertical-align: middle;\n",
       "    }\n",
       "\n",
       "    .dataframe tbody tr th {\n",
       "        vertical-align: top;\n",
       "    }\n",
       "\n",
       "    .dataframe thead th {\n",
       "        text-align: right;\n",
       "    }\n",
       "</style>\n",
       "<table border=\"1\" class=\"dataframe\">\n",
       "  <thead>\n",
       "    <tr style=\"text-align: right;\">\n",
       "      <th></th>\n",
       "      <th>Day</th>\n",
       "      <th>Outlook</th>\n",
       "      <th>Temperature</th>\n",
       "      <th>Humidity</th>\n",
       "      <th>Wind</th>\n",
       "      <th>Play Golf</th>\n",
       "    </tr>\n",
       "  </thead>\n",
       "  <tbody>\n",
       "    <tr>\n",
       "      <th>0</th>\n",
       "      <td>D1</td>\n",
       "      <td>Sunny</td>\n",
       "      <td>Hot</td>\n",
       "      <td>High</td>\n",
       "      <td>Weak</td>\n",
       "      <td>No</td>\n",
       "    </tr>\n",
       "    <tr>\n",
       "      <th>1</th>\n",
       "      <td>D2</td>\n",
       "      <td>Sunny</td>\n",
       "      <td>Hot</td>\n",
       "      <td>High</td>\n",
       "      <td>Strong</td>\n",
       "      <td>No</td>\n",
       "    </tr>\n",
       "    <tr>\n",
       "      <th>2</th>\n",
       "      <td>D3</td>\n",
       "      <td>Overcast</td>\n",
       "      <td>Hot</td>\n",
       "      <td>High</td>\n",
       "      <td>Weak</td>\n",
       "      <td>Yes</td>\n",
       "    </tr>\n",
       "    <tr>\n",
       "      <th>3</th>\n",
       "      <td>D4</td>\n",
       "      <td>Rain</td>\n",
       "      <td>Mild</td>\n",
       "      <td>High</td>\n",
       "      <td>Weak</td>\n",
       "      <td>Yes</td>\n",
       "    </tr>\n",
       "    <tr>\n",
       "      <th>4</th>\n",
       "      <td>D5</td>\n",
       "      <td>Rain</td>\n",
       "      <td>Cool</td>\n",
       "      <td>Normal</td>\n",
       "      <td>Weak</td>\n",
       "      <td>Yes</td>\n",
       "    </tr>\n",
       "    <tr>\n",
       "      <th>5</th>\n",
       "      <td>D6</td>\n",
       "      <td>Rain</td>\n",
       "      <td>Cool</td>\n",
       "      <td>Normal</td>\n",
       "      <td>Strong</td>\n",
       "      <td>No</td>\n",
       "    </tr>\n",
       "    <tr>\n",
       "      <th>6</th>\n",
       "      <td>D7</td>\n",
       "      <td>Overcast</td>\n",
       "      <td>Cool</td>\n",
       "      <td>Normal</td>\n",
       "      <td>Strong</td>\n",
       "      <td>Yes</td>\n",
       "    </tr>\n",
       "    <tr>\n",
       "      <th>7</th>\n",
       "      <td>D8</td>\n",
       "      <td>Sunny</td>\n",
       "      <td>Mild</td>\n",
       "      <td>High</td>\n",
       "      <td>Weak</td>\n",
       "      <td>No</td>\n",
       "    </tr>\n",
       "    <tr>\n",
       "      <th>8</th>\n",
       "      <td>D9</td>\n",
       "      <td>Sunny</td>\n",
       "      <td>Cool</td>\n",
       "      <td>Normal</td>\n",
       "      <td>Weak</td>\n",
       "      <td>Yes</td>\n",
       "    </tr>\n",
       "    <tr>\n",
       "      <th>9</th>\n",
       "      <td>D10</td>\n",
       "      <td>Rain</td>\n",
       "      <td>Mild</td>\n",
       "      <td>Normal</td>\n",
       "      <td>Weak</td>\n",
       "      <td>Yes</td>\n",
       "    </tr>\n",
       "    <tr>\n",
       "      <th>10</th>\n",
       "      <td>D11</td>\n",
       "      <td>Sunny</td>\n",
       "      <td>Mild</td>\n",
       "      <td>Normal</td>\n",
       "      <td>Strong</td>\n",
       "      <td>Yes</td>\n",
       "    </tr>\n",
       "    <tr>\n",
       "      <th>11</th>\n",
       "      <td>D12</td>\n",
       "      <td>Overcast</td>\n",
       "      <td>Mild</td>\n",
       "      <td>High</td>\n",
       "      <td>Strong</td>\n",
       "      <td>Yes</td>\n",
       "    </tr>\n",
       "    <tr>\n",
       "      <th>12</th>\n",
       "      <td>D13</td>\n",
       "      <td>Overcast</td>\n",
       "      <td>Hot</td>\n",
       "      <td>Normal</td>\n",
       "      <td>Weak</td>\n",
       "      <td>Yes</td>\n",
       "    </tr>\n",
       "    <tr>\n",
       "      <th>13</th>\n",
       "      <td>D14</td>\n",
       "      <td>Rain</td>\n",
       "      <td>Mild</td>\n",
       "      <td>High</td>\n",
       "      <td>Strong</td>\n",
       "      <td>No</td>\n",
       "    </tr>\n",
       "  </tbody>\n",
       "</table>\n",
       "</div>"
      ],
      "text/plain": [
       "    Day   Outlook Temperature Humidity    Wind Play Golf\n",
       "0    D1     Sunny         Hot     High    Weak        No\n",
       "1    D2     Sunny         Hot     High  Strong        No\n",
       "2    D3  Overcast         Hot     High    Weak       Yes\n",
       "3    D4      Rain        Mild     High    Weak       Yes\n",
       "4    D5      Rain        Cool   Normal    Weak       Yes\n",
       "5    D6      Rain        Cool   Normal  Strong        No\n",
       "6    D7  Overcast        Cool   Normal  Strong       Yes\n",
       "7    D8     Sunny        Mild     High    Weak        No\n",
       "8    D9     Sunny        Cool   Normal    Weak       Yes\n",
       "9   D10      Rain        Mild   Normal    Weak       Yes\n",
       "10  D11     Sunny        Mild   Normal  Strong       Yes\n",
       "11  D12  Overcast        Mild     High  Strong       Yes\n",
       "12  D13  Overcast         Hot   Normal    Weak       Yes\n",
       "13  D14      Rain        Mild     High  Strong        No"
      ]
     },
     "execution_count": 4,
     "metadata": {},
     "output_type": "execute_result"
    }
   ],
   "source": [
    "df"
   ]
  },
  {
   "cell_type": "code",
   "execution_count": 5,
   "id": "c84cc6ff",
   "metadata": {},
   "outputs": [
    {
     "data": {
      "text/plain": [
       "Index(['Day', 'Outlook', 'Temperature', 'Humidity', 'Wind', 'Play Golf'], dtype='object')"
      ]
     },
     "execution_count": 5,
     "metadata": {},
     "output_type": "execute_result"
    }
   ],
   "source": [
    "df.columns"
   ]
  },
  {
   "cell_type": "markdown",
   "id": "4a47cc4a",
   "metadata": {},
   "source": [
    "#### Step 1 → Using Shannon Entropy formula to determine H(PlayingGolf)"
   ]
  },
  {
   "cell_type": "markdown",
   "id": "ff73b426",
   "metadata": {},
   "source": [
    "H(x) Shannon-entropy of a discrete random variable = $-\\sum\\limits_{i = 1}^{n} P(X_{i})log_{2}P(X_{i})$ → X is playing golf"
   ]
  },
  {
   "cell_type": "code",
   "execution_count": 6,
   "id": "7c907687",
   "metadata": {},
   "outputs": [
    {
     "data": {
      "text/plain": [
       "Yes    9\n",
       "No     5\n",
       "Name: Play Golf, dtype: int64"
      ]
     },
     "execution_count": 6,
     "metadata": {},
     "output_type": "execute_result"
    }
   ],
   "source": [
    "df['Play Golf'].value_counts()"
   ]
  },
  {
   "cell_type": "code",
   "execution_count": 7,
   "id": "ccf28f24",
   "metadata": {},
   "outputs": [
    {
     "data": {
      "text/plain": [
       "0.9402859586706311"
      ]
     },
     "execution_count": 7,
     "metadata": {},
     "output_type": "execute_result"
    }
   ],
   "source": [
    "H_PlayGolf = -9/14 * np.log2(9/14) - 5/14 * np.log2(5/14)\n",
    "H_PlayGolf"
   ]
  },
  {
   "cell_type": "code",
   "execution_count": 8,
   "id": "53cc2bed",
   "metadata": {},
   "outputs": [
    {
     "data": {
      "text/plain": [
       "Outlook   Play Golf\n",
       "Overcast  Yes          4\n",
       "Rain      Yes          3\n",
       "          No           2\n",
       "Sunny     No           3\n",
       "          Yes          2\n",
       "Name: Play Golf, dtype: int64"
      ]
     },
     "execution_count": 8,
     "metadata": {},
     "output_type": "execute_result"
    }
   ],
   "source": [
    "df.groupby('Outlook')['Play Golf'].value_counts()"
   ]
  },
  {
   "cell_type": "code",
   "execution_count": 9,
   "id": "b60bca73",
   "metadata": {},
   "outputs": [
    {
     "data": {
      "text/plain": [
       "-0.0"
      ]
     },
     "execution_count": 9,
     "metadata": {},
     "output_type": "execute_result"
    }
   ],
   "source": [
    "H_Overcast = -4/4 * np.log2(4/4)\n",
    "H_Overcast"
   ]
  },
  {
   "cell_type": "code",
   "execution_count": 10,
   "id": "0a1f64ef",
   "metadata": {},
   "outputs": [
    {
     "data": {
      "text/plain": [
       "0.9709505944546686"
      ]
     },
     "execution_count": 10,
     "metadata": {},
     "output_type": "execute_result"
    }
   ],
   "source": [
    "H_Rain = -3/5 * np.log2(3/5) - 2/5 * np.log2(2/5)\n",
    "H_Rain"
   ]
  },
  {
   "cell_type": "code",
   "execution_count": 11,
   "id": "f280de07",
   "metadata": {},
   "outputs": [
    {
     "data": {
      "text/plain": [
       "0.9709505944546686"
      ]
     },
     "execution_count": 11,
     "metadata": {},
     "output_type": "execute_result"
    }
   ],
   "source": [
    "H_Sunny = -3/5 * np.log2(3/5) - 2/5 * np.log2(2/5)\n",
    "H_Sunny"
   ]
  },
  {
   "cell_type": "markdown",
   "id": "c9991c50",
   "metadata": {},
   "source": [
    "$Information Gain (PlayingGolf, Outlook) = H(PlayingGolf) - \\sum\\limits_{\\in (Sunny, Overcast, Rain) } \\frac{|S_{v}|}{|S|} Entropy(S_{v})$ \n",
    "\n",
    "$|S| → 14 $  \n",
    "\n",
    "$S_{v} = Sunny, Overcast, Rain$"
   ]
  },
  {
   "cell_type": "markdown",
   "id": "4bf1598c",
   "metadata": {},
   "source": [
    "#### Gain_Outlook = H_PlayGolf - Overcast/|S| * H_Overcast - Rain/|S| * H_Rain - Sunny/|S| * H_Sunny"
   ]
  },
  {
   "cell_type": "code",
   "execution_count": 12,
   "id": "07f2ffe4",
   "metadata": {},
   "outputs": [
    {
     "data": {
      "text/plain": [
       "0.24674981977443933"
      ]
     },
     "execution_count": 12,
     "metadata": {},
     "output_type": "execute_result"
    }
   ],
   "source": [
    "Gain_Outlook = H_PlayGolf - 4/14 * H_Overcast - 5/14 * H_Rain - 5/14 * H_Sunny\n",
    "Gain_Outlook"
   ]
  },
  {
   "cell_type": "code",
   "execution_count": 21,
   "id": "a07a48a4",
   "metadata": {},
   "outputs": [
    {
     "data": {
      "text/plain": [
       "Temperature  Play Golf\n",
       "Cool         Yes          3\n",
       "             No           1\n",
       "Hot          No           2\n",
       "             Yes          2\n",
       "Mild         Yes          4\n",
       "             No           2\n",
       "Name: Play Golf, dtype: int64"
      ]
     },
     "execution_count": 21,
     "metadata": {},
     "output_type": "execute_result"
    }
   ],
   "source": [
    "# Temperature\n",
    "df.groupby('Temperature')['Play Golf'].value_counts()"
   ]
  },
  {
   "cell_type": "code",
   "execution_count": 22,
   "id": "f148b0d4",
   "metadata": {},
   "outputs": [
    {
     "name": "stdout",
     "output_type": "stream",
     "text": [
      "1.0\n",
      "0.9182958340544896\n",
      "0.8112781244591328\n"
     ]
    },
    {
     "data": {
      "text/plain": [
       "0.02922256565895487"
      ]
     },
     "execution_count": 22,
     "metadata": {},
     "output_type": "execute_result"
    }
   ],
   "source": [
    "H_Hot = -2/4 * np.log2(2/4) - 2/4 * np.log2(2/4)\n",
    "print(H_Hot)\n",
    "\n",
    "H_Mild = -4/6 * np.log2(4/6) - 2/6 * np.log2(2/6)\n",
    "print(H_Mild)\n",
    "\n",
    "H_Cold = -3/4 * np.log2(3/4) - 1/4 * np.log2(1/4)\n",
    "print(H_Cold)\n",
    "\n",
    "Gain_Temperature = H_PlayGolf - 4/14 * H_Hot - 6/14 * H_Mild - 4/14 * H_Cold\n",
    "Gain_Temperature"
   ]
  },
  {
   "cell_type": "code",
   "execution_count": 23,
   "id": "35bda42e",
   "metadata": {},
   "outputs": [
    {
     "data": {
      "text/plain": [
       "Humidity  Play Golf\n",
       "High      No           4\n",
       "          Yes          3\n",
       "Normal    Yes          6\n",
       "          No           1\n",
       "Name: Play Golf, dtype: int64"
      ]
     },
     "execution_count": 23,
     "metadata": {},
     "output_type": "execute_result"
    }
   ],
   "source": [
    "# Humidity\n",
    "df.groupby('Humidity')['Play Golf'].value_counts()"
   ]
  },
  {
   "cell_type": "code",
   "execution_count": 24,
   "id": "a3e25a02",
   "metadata": {},
   "outputs": [
    {
     "name": "stdout",
     "output_type": "stream",
     "text": [
      "0.9852281360342515\n",
      "0.5916727785823275\n"
     ]
    },
    {
     "data": {
      "text/plain": [
       "0.15183550136234164"
      ]
     },
     "execution_count": 24,
     "metadata": {},
     "output_type": "execute_result"
    }
   ],
   "source": [
    "H_High = -3/7 * np.log2(3/7) - 4/7 * np.log2(4/7)\n",
    "print(H_High)\n",
    "\n",
    "H_Normal = -6/7 * np.log2(6/7) - 1/7 * np.log2(1/7)\n",
    "print(H_Normal)\n",
    "\n",
    "Gain_Humidity = H_PlayGolf - 7/14 * H_High - 7/14 * H_Normal\n",
    "Gain_Humidity"
   ]
  },
  {
   "cell_type": "code",
   "execution_count": 25,
   "id": "3418f665",
   "metadata": {},
   "outputs": [
    {
     "data": {
      "text/plain": [
       "Wind    Play Golf\n",
       "Strong  No           3\n",
       "        Yes          3\n",
       "Weak    Yes          6\n",
       "        No           2\n",
       "Name: Play Golf, dtype: int64"
      ]
     },
     "execution_count": 25,
     "metadata": {},
     "output_type": "execute_result"
    }
   ],
   "source": [
    "# Wind\n",
    "df.groupby('Wind')['Play Golf'].value_counts()"
   ]
  },
  {
   "cell_type": "code",
   "execution_count": 26,
   "id": "84594b16",
   "metadata": {},
   "outputs": [
    {
     "name": "stdout",
     "output_type": "stream",
     "text": [
      "1.0\n",
      "1.0\n"
     ]
    },
    {
     "data": {
      "text/plain": [
       "0.04812703040826949"
      ]
     },
     "execution_count": 26,
     "metadata": {},
     "output_type": "execute_result"
    }
   ],
   "source": [
    "# Wind\n",
    "H_Strong = -3/6 * np.log2(3/6) - 3/6 * np.log2(3/6)\n",
    "print(H_Strong)\n",
    "\n",
    "H_Weak = -6/8 * np.log2(6/8) - 2/8 * np.log2(2/8)\n",
    "print(H_Strong)\n",
    "\n",
    "Gain_Wind = H_PlayGolf - 6/14 * H_Strong - 8/14 * H_Weak\n",
    "Gain_Wind"
   ]
  },
  {
   "cell_type": "markdown",
   "id": "ad19c9ab",
   "metadata": {},
   "source": [
    "## Similarly, calculate the Gain_Temperature, Gain_Humidity, Gain_Wind"
   ]
  },
  {
   "cell_type": "markdown",
   "id": "9a614bf5",
   "metadata": {},
   "source": [
    "#### Gain_Outlook = 0.246\n",
    "#### Gain_Temperature = 0.0289\n",
    "#### Gain_Humidity = 0.1516\n",
    "#### Gain_Wind = 0.0478"
   ]
  },
  {
   "cell_type": "markdown",
   "id": "0f3a801a",
   "metadata": {},
   "source": [
    "<img align=\"left\" src=\"dt1.png\"     style=\" width:400px; padding: 10px; \" >"
   ]
  },
  {
   "cell_type": "markdown",
   "id": "ef9d1cd9",
   "metadata": {},
   "source": [
    "#### Next determine the children of Sunny and Rain"
   ]
  },
  {
   "cell_type": "code",
   "execution_count": 12,
   "id": "b46f31c5",
   "metadata": {},
   "outputs": [
    {
     "data": {
      "text/plain": [
       "0.9709505944546686"
      ]
     },
     "execution_count": 12,
     "metadata": {},
     "output_type": "execute_result"
    }
   ],
   "source": [
    "H_Sunny"
   ]
  },
  {
   "cell_type": "code",
   "execution_count": 13,
   "id": "805ffe47",
   "metadata": {},
   "outputs": [
    {
     "data": {
      "text/html": [
       "<div>\n",
       "<style scoped>\n",
       "    .dataframe tbody tr th:only-of-type {\n",
       "        vertical-align: middle;\n",
       "    }\n",
       "\n",
       "    .dataframe tbody tr th {\n",
       "        vertical-align: top;\n",
       "    }\n",
       "\n",
       "    .dataframe thead th {\n",
       "        text-align: right;\n",
       "    }\n",
       "</style>\n",
       "<table border=\"1\" class=\"dataframe\">\n",
       "  <thead>\n",
       "    <tr style=\"text-align: right;\">\n",
       "      <th></th>\n",
       "      <th>Day</th>\n",
       "      <th>Outlook</th>\n",
       "      <th>Temperature</th>\n",
       "      <th>Humidity</th>\n",
       "      <th>Wind</th>\n",
       "      <th>Play Golf</th>\n",
       "    </tr>\n",
       "  </thead>\n",
       "  <tbody>\n",
       "    <tr>\n",
       "      <th>0</th>\n",
       "      <td>D1</td>\n",
       "      <td>Sunny</td>\n",
       "      <td>Hot</td>\n",
       "      <td>High</td>\n",
       "      <td>Weak</td>\n",
       "      <td>No</td>\n",
       "    </tr>\n",
       "    <tr>\n",
       "      <th>1</th>\n",
       "      <td>D2</td>\n",
       "      <td>Sunny</td>\n",
       "      <td>Hot</td>\n",
       "      <td>High</td>\n",
       "      <td>Strong</td>\n",
       "      <td>No</td>\n",
       "    </tr>\n",
       "    <tr>\n",
       "      <th>7</th>\n",
       "      <td>D8</td>\n",
       "      <td>Sunny</td>\n",
       "      <td>Mild</td>\n",
       "      <td>High</td>\n",
       "      <td>Weak</td>\n",
       "      <td>No</td>\n",
       "    </tr>\n",
       "    <tr>\n",
       "      <th>8</th>\n",
       "      <td>D9</td>\n",
       "      <td>Sunny</td>\n",
       "      <td>Cool</td>\n",
       "      <td>Normal</td>\n",
       "      <td>Weak</td>\n",
       "      <td>Yes</td>\n",
       "    </tr>\n",
       "    <tr>\n",
       "      <th>10</th>\n",
       "      <td>D11</td>\n",
       "      <td>Sunny</td>\n",
       "      <td>Mild</td>\n",
       "      <td>Normal</td>\n",
       "      <td>Strong</td>\n",
       "      <td>Yes</td>\n",
       "    </tr>\n",
       "  </tbody>\n",
       "</table>\n",
       "</div>"
      ],
      "text/plain": [
       "    Day Outlook Temperature Humidity    Wind Play Golf\n",
       "0    D1   Sunny         Hot     High    Weak        No\n",
       "1    D2   Sunny         Hot     High  Strong        No\n",
       "7    D8   Sunny        Mild     High    Weak        No\n",
       "8    D9   Sunny        Cool   Normal    Weak       Yes\n",
       "10  D11   Sunny        Mild   Normal  Strong       Yes"
      ]
     },
     "execution_count": 13,
     "metadata": {},
     "output_type": "execute_result"
    }
   ],
   "source": [
    "df[df['Outlook'] == 'Sunny']"
   ]
  },
  {
   "cell_type": "code",
   "execution_count": 14,
   "id": "2c67eea3",
   "metadata": {},
   "outputs": [
    {
     "data": {
      "text/plain": [
       "Temperature  Play Golf\n",
       "Cool         Yes          1\n",
       "Hot          No           2\n",
       "Mild         No           1\n",
       "             Yes          1\n",
       "Name: Play Golf, dtype: int64"
      ]
     },
     "execution_count": 14,
     "metadata": {},
     "output_type": "execute_result"
    }
   ],
   "source": [
    "df[df['Outlook'] == 'Sunny'].groupby('Temperature')['Play Golf'].value_counts()"
   ]
  },
  {
   "cell_type": "code",
   "execution_count": 15,
   "id": "2b83502c",
   "metadata": {},
   "outputs": [
    {
     "data": {
      "text/plain": [
       "-0.0"
      ]
     },
     "execution_count": 15,
     "metadata": {},
     "output_type": "execute_result"
    }
   ],
   "source": [
    "H_Cool = -1/1 * np.log2(1/1)\n",
    "H_Cool"
   ]
  },
  {
   "cell_type": "code",
   "execution_count": 16,
   "id": "3f83d3be",
   "metadata": {},
   "outputs": [
    {
     "data": {
      "text/plain": [
       "-0.0"
      ]
     },
     "execution_count": 16,
     "metadata": {},
     "output_type": "execute_result"
    }
   ],
   "source": [
    "H_Hot = -2/2 * np.log2(2/2)\n",
    "H_Hot"
   ]
  },
  {
   "cell_type": "code",
   "execution_count": 17,
   "id": "3f1a6701",
   "metadata": {},
   "outputs": [
    {
     "data": {
      "text/plain": [
       "1.0"
      ]
     },
     "execution_count": 17,
     "metadata": {},
     "output_type": "execute_result"
    }
   ],
   "source": [
    "H_Mild = -1/2 * np.log2(1/2) - 1/2 * np.log2(1/2)\n",
    "H_Mild"
   ]
  },
  {
   "cell_type": "code",
   "execution_count": 18,
   "id": "c39f6138",
   "metadata": {},
   "outputs": [
    {
     "data": {
      "text/plain": [
       "0.5709505944546686"
      ]
     },
     "execution_count": 18,
     "metadata": {},
     "output_type": "execute_result"
    }
   ],
   "source": [
    "Gain_Sunny_Temp = H_Sunny - 1/5 * H_Cool - 2/5 * H_Hot - 2/5 * H_Mild\n",
    "Gain_Sunny_Temp"
   ]
  },
  {
   "cell_type": "code",
   "execution_count": 19,
   "id": "53c2dbfe",
   "metadata": {},
   "outputs": [
    {
     "data": {
      "text/plain": [
       "Humidity  Play Golf\n",
       "High      No           3\n",
       "Normal    Yes          2\n",
       "Name: Play Golf, dtype: int64"
      ]
     },
     "execution_count": 19,
     "metadata": {},
     "output_type": "execute_result"
    }
   ],
   "source": [
    "df[df['Outlook'] == 'Sunny'].groupby('Humidity')['Play Golf'].value_counts()"
   ]
  },
  {
   "cell_type": "markdown",
   "id": "13b9edce",
   "metadata": {},
   "source": [
    "- For completely homogoeneous dataset (all True or all False): entrpy is 0\n",
    "- If dataset is equally divided (same amount of True and all False): entrpy is 1"
   ]
  },
  {
   "cell_type": "code",
   "execution_count": 20,
   "id": "5936bdc7",
   "metadata": {},
   "outputs": [],
   "source": [
    "H_High = 0\n",
    "H_Normal = 0"
   ]
  },
  {
   "cell_type": "code",
   "execution_count": 21,
   "id": "6f3317a7",
   "metadata": {},
   "outputs": [
    {
     "data": {
      "text/plain": [
       "0.9709505944546686"
      ]
     },
     "execution_count": 21,
     "metadata": {},
     "output_type": "execute_result"
    }
   ],
   "source": [
    "Gain_Sunny_Humid = H_Sunny - 3/5 * H_High - 2/5 * H_Normal\n",
    "Gain_Sunny_Humid"
   ]
  },
  {
   "cell_type": "code",
   "execution_count": 22,
   "id": "557aab64",
   "metadata": {},
   "outputs": [
    {
     "data": {
      "text/plain": [
       "Wind    Play Golf\n",
       "Strong  No           1\n",
       "        Yes          1\n",
       "Weak    No           2\n",
       "        Yes          1\n",
       "Name: Play Golf, dtype: int64"
      ]
     },
     "execution_count": 22,
     "metadata": {},
     "output_type": "execute_result"
    }
   ],
   "source": [
    "df[df['Outlook'] == 'Sunny'].groupby('Wind')['Play Golf'].value_counts()"
   ]
  },
  {
   "cell_type": "code",
   "execution_count": 23,
   "id": "24d613c4",
   "metadata": {},
   "outputs": [
    {
     "data": {
      "text/plain": [
       "0.9182958340544896"
      ]
     },
     "execution_count": 23,
     "metadata": {},
     "output_type": "execute_result"
    }
   ],
   "source": [
    "H_Strong = 1\n",
    "H_Weak = -2/3 * np.log2(2/3) - 1/3 * np.log2(1/3) \n",
    "H_Weak"
   ]
  },
  {
   "cell_type": "code",
   "execution_count": 24,
   "id": "96ab199e",
   "metadata": {},
   "outputs": [
    {
     "data": {
      "text/plain": [
       "0.01997309402197489"
      ]
     },
     "execution_count": 24,
     "metadata": {},
     "output_type": "execute_result"
    }
   ],
   "source": [
    "Gain_Sunny_Wind = H_Sunny - 2/5 * H_Strong - 3/5 * H_Weak\n",
    "Gain_Sunny_Wind"
   ]
  },
  {
   "cell_type": "markdown",
   "id": "3b47a5ea",
   "metadata": {},
   "source": [
    "#### Gain_Sunny_Temp = 0.57\n",
    "#### Gain_Sunny_Humid = 0.97\n",
    "#### Gain_Sunny_Wind = 0.019"
   ]
  },
  {
   "cell_type": "markdown",
   "id": "b99eb829",
   "metadata": {},
   "source": [
    "<img align=\"left\" src=\"dt2.png\"     style=\" width:400px; padding: 10px; \" >"
   ]
  },
  {
   "cell_type": "code",
   "execution_count": 25,
   "id": "fe1251d8",
   "metadata": {},
   "outputs": [
    {
     "data": {
      "text/html": [
       "<div>\n",
       "<style scoped>\n",
       "    .dataframe tbody tr th:only-of-type {\n",
       "        vertical-align: middle;\n",
       "    }\n",
       "\n",
       "    .dataframe tbody tr th {\n",
       "        vertical-align: top;\n",
       "    }\n",
       "\n",
       "    .dataframe thead th {\n",
       "        text-align: right;\n",
       "    }\n",
       "</style>\n",
       "<table border=\"1\" class=\"dataframe\">\n",
       "  <thead>\n",
       "    <tr style=\"text-align: right;\">\n",
       "      <th></th>\n",
       "      <th>Day</th>\n",
       "      <th>Outlook</th>\n",
       "      <th>Temperature</th>\n",
       "      <th>Humidity</th>\n",
       "      <th>Wind</th>\n",
       "      <th>Play Golf</th>\n",
       "    </tr>\n",
       "  </thead>\n",
       "  <tbody>\n",
       "    <tr>\n",
       "      <th>3</th>\n",
       "      <td>D4</td>\n",
       "      <td>Rain</td>\n",
       "      <td>Mild</td>\n",
       "      <td>High</td>\n",
       "      <td>Weak</td>\n",
       "      <td>Yes</td>\n",
       "    </tr>\n",
       "    <tr>\n",
       "      <th>4</th>\n",
       "      <td>D5</td>\n",
       "      <td>Rain</td>\n",
       "      <td>Cool</td>\n",
       "      <td>Normal</td>\n",
       "      <td>Weak</td>\n",
       "      <td>Yes</td>\n",
       "    </tr>\n",
       "    <tr>\n",
       "      <th>5</th>\n",
       "      <td>D6</td>\n",
       "      <td>Rain</td>\n",
       "      <td>Cool</td>\n",
       "      <td>Normal</td>\n",
       "      <td>Strong</td>\n",
       "      <td>No</td>\n",
       "    </tr>\n",
       "    <tr>\n",
       "      <th>9</th>\n",
       "      <td>D10</td>\n",
       "      <td>Rain</td>\n",
       "      <td>Mild</td>\n",
       "      <td>Normal</td>\n",
       "      <td>Weak</td>\n",
       "      <td>Yes</td>\n",
       "    </tr>\n",
       "    <tr>\n",
       "      <th>13</th>\n",
       "      <td>D14</td>\n",
       "      <td>Rain</td>\n",
       "      <td>Mild</td>\n",
       "      <td>High</td>\n",
       "      <td>Strong</td>\n",
       "      <td>No</td>\n",
       "    </tr>\n",
       "  </tbody>\n",
       "</table>\n",
       "</div>"
      ],
      "text/plain": [
       "    Day Outlook Temperature Humidity    Wind Play Golf\n",
       "3    D4    Rain        Mild     High    Weak       Yes\n",
       "4    D5    Rain        Cool   Normal    Weak       Yes\n",
       "5    D6    Rain        Cool   Normal  Strong        No\n",
       "9   D10    Rain        Mild   Normal    Weak       Yes\n",
       "13  D14    Rain        Mild     High  Strong        No"
      ]
     },
     "execution_count": 25,
     "metadata": {},
     "output_type": "execute_result"
    }
   ],
   "source": [
    "df[df['Outlook'] == 'Rain']"
   ]
  },
  {
   "cell_type": "code",
   "execution_count": 26,
   "id": "d809913e",
   "metadata": {},
   "outputs": [
    {
     "data": {
      "text/plain": [
       "Temperature  Play Golf\n",
       "Cool         No           1\n",
       "             Yes          1\n",
       "Mild         Yes          2\n",
       "             No           1\n",
       "Name: Play Golf, dtype: int64"
      ]
     },
     "execution_count": 26,
     "metadata": {},
     "output_type": "execute_result"
    }
   ],
   "source": [
    "df[df['Outlook'] == 'Rain'].groupby('Temperature')['Play Golf'].value_counts()"
   ]
  },
  {
   "cell_type": "markdown",
   "id": "5a6c2ddd",
   "metadata": {},
   "source": [
    "- For completely homogoeneous dataset (all True or all False): entrpy is 0\n",
    "- If dataset is equally divided (same amount of True and all False): entrpy is 1"
   ]
  },
  {
   "cell_type": "code",
   "execution_count": 27,
   "id": "18bef3d0",
   "metadata": {},
   "outputs": [],
   "source": [
    "H_Cool = 1"
   ]
  },
  {
   "cell_type": "code",
   "execution_count": 28,
   "id": "16d89a6b",
   "metadata": {},
   "outputs": [
    {
     "data": {
      "text/plain": [
       "0.9182958340544896"
      ]
     },
     "execution_count": 28,
     "metadata": {},
     "output_type": "execute_result"
    }
   ],
   "source": [
    "H_Mild = -2/3 * np.log2(2/3) - 1/3 * np.log2(1/3)\n",
    "H_Mild"
   ]
  },
  {
   "cell_type": "code",
   "execution_count": 29,
   "id": "bb8294bb",
   "metadata": {},
   "outputs": [
    {
     "data": {
      "text/plain": [
       "0.01997309402197489"
      ]
     },
     "execution_count": 29,
     "metadata": {},
     "output_type": "execute_result"
    }
   ],
   "source": [
    "Gain_Rain_Temp = H_Rain - 2/5 * H_Cool - 3/5 * H_Mild\n",
    "Gain_Rain_Temp"
   ]
  },
  {
   "cell_type": "code",
   "execution_count": 30,
   "id": "619c0311",
   "metadata": {},
   "outputs": [
    {
     "data": {
      "text/plain": [
       "Humidity  Play Golf\n",
       "High      No           1\n",
       "          Yes          1\n",
       "Normal    Yes          2\n",
       "          No           1\n",
       "Name: Play Golf, dtype: int64"
      ]
     },
     "execution_count": 30,
     "metadata": {},
     "output_type": "execute_result"
    }
   ],
   "source": [
    "df[df['Outlook'] == 'Rain'].groupby('Humidity')['Play Golf'].value_counts()"
   ]
  },
  {
   "cell_type": "code",
   "execution_count": 31,
   "id": "48d5d262",
   "metadata": {},
   "outputs": [
    {
     "data": {
      "text/plain": [
       "0.9182958340544896"
      ]
     },
     "execution_count": 31,
     "metadata": {},
     "output_type": "execute_result"
    }
   ],
   "source": [
    "H_High = 1\n",
    "H_Normal = -2/3 * np.log2(2/3) - 1/3 * np.log2(1/3)\n",
    "H_Normal"
   ]
  },
  {
   "cell_type": "code",
   "execution_count": 32,
   "id": "76529801",
   "metadata": {},
   "outputs": [
    {
     "data": {
      "text/plain": [
       "0.01997309402197489"
      ]
     },
     "execution_count": 32,
     "metadata": {},
     "output_type": "execute_result"
    }
   ],
   "source": [
    "Gain_Rain_Humid = H_Rain - 2/5 * H_High - 3/5 * H_Normal\n",
    "Gain_Rain_Humid"
   ]
  },
  {
   "cell_type": "code",
   "execution_count": 33,
   "id": "a5ff1a71",
   "metadata": {},
   "outputs": [
    {
     "data": {
      "text/plain": [
       "Wind    Play Golf\n",
       "Strong  No           2\n",
       "Weak    Yes          3\n",
       "Name: Play Golf, dtype: int64"
      ]
     },
     "execution_count": 33,
     "metadata": {},
     "output_type": "execute_result"
    }
   ],
   "source": [
    "df[df['Outlook'] == 'Rain'].groupby('Wind')['Play Golf'].value_counts()"
   ]
  },
  {
   "cell_type": "markdown",
   "id": "bb98f42d",
   "metadata": {},
   "source": [
    "- For completely homogoeneous dataset (all True or all False): entrpy is 0\n",
    "- If dataset is equally divided (same amount of True and all False): entrpy is 1"
   ]
  },
  {
   "cell_type": "code",
   "execution_count": 34,
   "id": "b95ea809",
   "metadata": {},
   "outputs": [],
   "source": [
    "H_Strong = 0\n",
    "H_Weak = 0"
   ]
  },
  {
   "cell_type": "code",
   "execution_count": 35,
   "id": "1b3d35a7",
   "metadata": {},
   "outputs": [
    {
     "data": {
      "text/plain": [
       "0.9709505944546686"
      ]
     },
     "execution_count": 35,
     "metadata": {},
     "output_type": "execute_result"
    }
   ],
   "source": [
    "Gain_Rain_Wind = H_Rain - 1/5 * H_Strong - 4/5 * H_Weak\n",
    "Gain_Rain_Wind"
   ]
  },
  {
   "cell_type": "markdown",
   "id": "f0eb9039",
   "metadata": {},
   "source": [
    "#### Gain_Rain_Temp = 0.019\n",
    "#### Gain_Rain_Humid = 0.019\n",
    "#### Gain_Rain_Wind = 0.97"
   ]
  },
  {
   "cell_type": "markdown",
   "id": "a71da936",
   "metadata": {},
   "source": [
    "<img align=\"left\" src=\"dt3.png\"     style=\" width:400px; padding: 10px; \" >"
   ]
  }
 ],
 "metadata": {
  "kernelspec": {
   "display_name": "Python 3 (ipykernel)",
   "language": "python",
   "name": "python3"
  },
  "language_info": {
   "codemirror_mode": {
    "name": "ipython",
    "version": 3
   },
   "file_extension": ".py",
   "mimetype": "text/x-python",
   "name": "python",
   "nbconvert_exporter": "python",
   "pygments_lexer": "ipython3",
   "version": "3.10.9"
  }
 },
 "nbformat": 4,
 "nbformat_minor": 5
}
